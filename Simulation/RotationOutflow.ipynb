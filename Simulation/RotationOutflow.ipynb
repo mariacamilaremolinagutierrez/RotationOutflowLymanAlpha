{
 "cells": [
  {
   "cell_type": "code",
   "execution_count": 1,
   "metadata": {
    "collapsed": false
   },
   "outputs": [
    {
     "name": "stdout",
     "output_type": "stream",
     "text": [
      "Populating the interactive namespace from numpy and matplotlib\n"
     ]
    }
   ],
   "source": [
    "%pylab inline\n",
    "from scipy.interpolate import interp1d\n",
    "from read_LyaRT import wls\n",
    "from os import listdir\n",
    "import os.path"
   ]
  },
  {
   "cell_type": "code",
   "execution_count": 2,
   "metadata": {
    "collapsed": false
   },
   "outputs": [],
   "source": [
    "#Important numbers\n",
    "\n",
    "v_th=12.4\n",
    "c=300000.0 #km/s\n",
    "LyA_freq=2.47*(10.0**15) #Hz (frequency at rest)"
   ]
  },
  {
   "cell_type": "code",
   "execution_count": 3,
   "metadata": {
    "collapsed": false
   },
   "outputs": [],
   "source": [
    "#Paths\n",
    "galaxy_path = \"./data/galaxy/\"\n",
    "outflow_path = \"./data/outflow/\"\n",
    "images_path = \"./data/galaxyoutflowimages/\"\n",
    "data_path = \"./data/\"\n",
    "\n",
    "#Galaxy Filenames\n",
    "galaxy_filenames = array(sorted(listdir(galaxy_path)))\n",
    "number_galaxies = len(galaxy_filenames)\n",
    "#galaxy_velocities = [60, 125] #(km/s)\n",
    "\n",
    "#Outflow Filenames\n",
    "outflow_filenames = array(sorted(listdir(outflow_path)))\n",
    "number_outflows = len(outflow_filenames)\n",
    "#outflow_velocities = [100.0, 200.0] #(km/s)\n",
    "#outflow_lognHs = [20.0, 20.0625, 20.125, 20.1875, 20.25, 20.3125, 20.375, 20.4375, 20.5, 20.5625, 20.625, 20.6875,\n",
    "#                  20.75, 20.8125, 20.875, 20.9375, 21.0, 21.0625, 21.125, 21.1875, 21.25, 21.3125, 21.375, 21.4375,\n",
    "#                  21.5, 21.5625, 21.625, 21.6875, 21.75, 21.8125, 21.875, 21.9375, 22.0, 22.0625, 22.125, 22.1875,\n",
    "#                  22.25, 22.3125, 22.375, 22.4375, 22.5]"
   ]
  },
  {
   "cell_type": "code",
   "execution_count": 7,
   "metadata": {
    "collapsed": false
   },
   "outputs": [],
   "source": [
    "filename = \"galaxyoutflow\"\n",
    "spectrum_file = open(data_path+filename+\".csv\",'w')\n",
    "spectrum_file.write(\"v_gal,v_out,lognh,x,y\\n\")"
   ]
  },
  {
   "cell_type": "code",
   "execution_count": null,
   "metadata": {
    "collapsed": false
   },
   "outputs": [],
   "source": [
    "#The first for is to try with the number of galaxies (different velocities)\n",
    "for i in range(number_galaxies):\n",
    "    \n",
    "    #Get file with galaxy spectrum and its content\n",
    "    gal_filename = galaxy_filenames[i]\n",
    "    gal_velocity = int((gal_filename.split(\"v\")[1]).split(\"a\")[0])\n",
    "    gal_logtau = int((gal_filename.split(\"t\")[1]).split(\"v\")[0])\n",
    "    gal_spectrum = loadtxt(galaxy_path+gal_filename)\n",
    "    gal_velocities = gal_spectrum[:,0]\n",
    "    gal_intensities = gal_spectrum[:,1]\n",
    "    gal_wavelengths = c*10**13/(LyA_freq*(1-gal_velocities/c)) # angstroms (*10**3 km_m *10**10 m_ang)\n",
    "    \n",
    "    #As the values inside the galaxy file can have a smaller interval in wavelength than the outflow, they have\n",
    "    #to be extended in order to be equal, this process is started here and completed in the next for cycle.\n",
    "    gal_number_wavelengths = len(gal_wavelengths)\n",
    "    gal_delta_wavelength = gal_wavelengths[2]-gal_wavelengths[1]\n",
    "    gal_initial_wavelength = gal_wavelengths[0]\n",
    "    gal_final_wavelength = gal_wavelengths[gal_number_wavelengths-1]\n",
    "    \n",
    "    for j in range(number_outflows):\n",
    "        \n",
    "        #Get file with outflow\n",
    "        out_filename = outflow_filenames[j]\n",
    "        out_lognH = float((out_filename.split(\"_\")[2]).split(\"nH\")[1])\n",
    "        out_velocity = float((out_filename.split(\"_\")[3]).split(\"vmax\")[1])\n",
    "        \n",
    "        wl0, wl = wls(outflow_path+out_filename)  \n",
    "        h=histogram(wl0, bins=299)\n",
    "        out_intensities_flat, out_wavelenghts_flat = h[0], h[1]\n",
    "        out_intensity_flat_max = amax(out_intensities_flat)\n",
    "        \n",
    "        #Set the maximum intensity of galaxy to the same one of the outflow \n",
    "        \n",
    "        gal_intensity_max = amax(gal_intensities)\n",
    "        gal_intensities = gal_intensities*out_intensity_flat_max/gal_intensity_max\n",
    "\n",
    "        #The extension of galaxy wavelengths is continued here\n",
    "        out_initial_wavelenght_flat = amin(out_wavelenghts_flat)\n",
    "        out_final_wavelenght_flat = amax(out_wavelenghts_flat)\n",
    "        number_wavelengths_below = int(ceil((gal_initial_wavelength - out_initial_wavelenght_flat)/gal_delta_wavelength))\n",
    "        number_wavelengths_above = int(ceil((out_final_wavelenght_flat - gal_final_wavelength)/gal_delta_wavelength))\n",
    "        \n",
    "        intensities_below = zeros(number_wavelengths_below)\n",
    "        intensities_above = zeros(number_wavelengths_above)\n",
    "        wavelengths_below = zeros(number_wavelengths_below)\n",
    "        wavelengths_above = zeros(number_wavelengths_above)\n",
    "        \n",
    "        gal_initial_wavelength_copy = gal_initial_wavelength\n",
    "        for k in range(number_wavelengths_below):\n",
    "            gal_initial_wavelength_copy -= gal_delta_wavelength\n",
    "            wavelengths_below[number_wavelengths_below-k-1] = gal_initial_wavelength_copy\n",
    "    \n",
    "        gal_final_wavelength_copy = gal_final_wavelength\n",
    "        for k in range(number_wavelengths_above):\n",
    "            gal_final_wavelength_copy += gal_delta_wavelength\n",
    "            wavelengths_above[k] = gal_final_wavelength_copy\n",
    "        \n",
    "        gal_extended_intensities = concatenate((intensities_below, gal_intensities, intensities_above))\n",
    "        gal_extended_wavelenghts = concatenate((wavelengths_below, gal_wavelengths, wavelengths_above))\n",
    "        \n",
    "        #Now with the wavelengths and intensities of the galaxy extended we can make the interpolation function        \n",
    "        \n",
    "        #Interpolation function\n",
    "        f_interpolation = interp1d(gal_extended_wavelenghts, gal_extended_intensities)  \n",
    "        \n",
    "        #Evaluate wl0 in the interp. function\n",
    "        intensities = f_interpolation(wl0)\n",
    "        \n",
    "        #Get final spectrum\n",
    "        fig=figure()\n",
    "\n",
    "        image_filename = \"tgal2E\"+str(gal_logtau)+\"vgal\"+str(gal_velocity)+\"lognH\"+str(out_lognH)+\"vout\"+str(out_velocity)\n",
    "    \n",
    "        spectrum = hist(wl, bins=100, weights=intensities, histtype='step')\n",
    "        \n",
    "        y=spectrum[0]\n",
    "        x_wavelenght=spectrum[1]\n",
    "        x=c*(1-(c*10**13)/(x_wavelenght*LyA_freq)) #in velocity units\n",
    "\n",
    "        for i in range (len(y)):\n",
    "            spectrum_file.write(str(gal_velocity)+\",\"+str(out_velocity)+\",\"+str(out_lognH)+\",\"+str(x[i])+\",\"+str(y[i])+\"\\n\")\n",
    "\n",
    "        xlabel(\"$\\lambda$ (Angstrom)\")\n",
    "        ylabel(\"Intensity (Arbitrary Units)\")\n",
    "        legend([\"$v_{gal}$ = \"+str(gal_velocity)+\" km/s\" + \"\\n $lognH$ = \"+str(out_lognH)+\"\\n $v_{out}$ = \"+str(out_velocity)+\" km/s\"])\n",
    "        savefig(images_path+image_filename+\".png\",format = 'png')\n",
    "        close()  \n",
    "        \n",
    "spectrum_file.close()"
   ]
  },
  {
   "cell_type": "code",
   "execution_count": null,
   "metadata": {
    "collapsed": true
   },
   "outputs": [],
   "source": []
  }
 ],
 "metadata": {
  "kernelspec": {
   "display_name": "Python 2",
   "language": "python",
   "name": "python2"
  },
  "language_info": {
   "codemirror_mode": {
    "name": "ipython",
    "version": 2
   },
   "file_extension": ".py",
   "mimetype": "text/x-python",
   "name": "python",
   "nbconvert_exporter": "python",
   "pygments_lexer": "ipython2",
   "version": "2.7.6"
  }
 },
 "nbformat": 4,
 "nbformat_minor": 0
}
